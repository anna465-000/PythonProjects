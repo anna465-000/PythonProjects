{
 "cells": [
  {
   "cell_type": "code",
   "execution_count": null,
   "id": "858b3360-f005-45c3-9e2d-55147c6a85be",
   "metadata": {},
   "outputs": [],
   "source": [
    "def calc(a, b, op):\n",
    "    \"\"\"\n",
    "    Returns a string like this: a op b = c\n",
    "    where c is the computed value according to the opeartor\n",
    "    \"\"\"\n",
    "\n",
    "    if op not in '+-/*':\n",
    "        return 'Please only type one of these characters: \"+, -, *, /\"!'\n",
    "\n",
    "    if op == '+':\n",
    "        return(str(a) + ' ' + op + ' ' + str(b) + ' = ' + str(a + b))\n",
    "    if op == '-':\n",
    "        return(str(a) + ' ' + op + ' ' + str(b) + ' = ' + str(a - b))\n",
    "    if op == '*':\n",
    "        return(str(a) + ' ' + op + ' ' + str(b) + ' = ' + str(a * b))\n",
    "    if op == '/':\n",
    "        return(str(a) + ' ' + op + ' ' + str(b) + ' = ' + str(a / b))\n",
    "\n",
    "\n",
    "def main():  # Wrapper function\n",
    "    \n",
    "    while True:\n",
    "        a = input('Please type the first number:')\n",
    "         b = input('Please type the second number: ')\n",
    "        if a,b in range(0,10):\n",
    "            a = int(a)\n",
    "            break\n",
    "        else:\n",
    "            print(\"Sorry that wasnt a vaid choice\")\n",
    "            continue\n",
    "       \n",
    "    op = input('What kind of operation would you like to do?\\\n",
    "            \\nChoose between \"+, -, *, /\" : ')\n",
    "            \n",
    "    \n",
    "        print(calc(a, b, op))\n",
    "\n",
    "if __name__ == '__main__':\n",
    "    main()\n",
    "\n"
   ]
  },
  {
   "cell_type": "code",
   "execution_count": 1,
   "id": "a8b16337-deca-4cf4-8814-8c0e08633173",
   "metadata": {},
   "outputs": [
    {
     "data": {
      "text/plain": [
       "[0, 1, 2, 3, 4, 5, 6, 7, 8, 9]"
      ]
     },
     "execution_count": 1,
     "metadata": {},
     "output_type": "execute_result"
    }
   ],
   "source": []
  },
  {
   "cell_type": "code",
   "execution_count": null,
   "id": "dcdc1171-cde1-4e2d-9f7c-5aff30daedba",
   "metadata": {},
   "outputs": [],
   "source": []
  }
 ],
 "metadata": {
  "kernelspec": {
   "display_name": "Python 3 (ipykernel)",
   "language": "python",
   "name": "python3"
  },
  "language_info": {
   "codemirror_mode": {
    "name": "ipython",
    "version": 3
   },
   "file_extension": ".py",
   "mimetype": "text/x-python",
   "name": "python",
   "nbconvert_exporter": "python",
   "pygments_lexer": "ipython3",
   "version": "3.12.4"
  }
 },
 "nbformat": 4,
 "nbformat_minor": 5
}
