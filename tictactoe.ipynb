{
 "cells": [
  {
   "cell_type": "code",
   "execution_count": 4,
   "id": "3e979eca-ba28-45ff-8825-1634ac875b33",
   "metadata": {},
   "outputs": [],
   "source": [
    "def display_board(board):\n",
    "    print ('|'+'\\t|'*3)\n",
    "    print('|   '+board[1]+'   |   '+board[2]+'   |   '+board[3]+'   |')\n",
    "    print ('|'+'\\t|'*3)\n",
    "    print('-----'*5)\n",
    "    print ('|'+'\\t|'*3)\n",
    "    print('|   '+board[4]+'   |   '+board[5]+'   |   '+board[6]+'   |')\n",
    "    print ('|'+'\\t|'*3)\n",
    "    print('-----'*5)\n",
    "    print ('|'+'\\t|'*3)\n",
    "    print('|   '+board[7]+'   |   '+board[8]+'   |   '+board[9]+'   |')\n",
    "    print ('|'+'\\t|'*3)"
   ]
  },
  {
   "cell_type": "code",
   "execution_count": 5,
   "id": "85e606ae-c2d5-4f12-8628-22af71015240",
   "metadata": {},
   "outputs": [],
   "source": [
    "def user_input():\n",
    "    choice = 'WRONG'\n",
    "    \n",
    "    while choice.isdigit()==False or int(choice) not in range(1,10) :\n",
    "        choice = input('Please enter a number between 1-9')\n",
    "        if choice.isdigit()==False:\n",
    "            print('Sorry that\\'s not a valid number')\n",
    "        if choice.isdigit()== True and int(choice) not in range(1,10):\n",
    "            print('Not in range of 1-9')\n",
    "        \n",
    "    return int(choice)\n",
    "        "
   ]
  },
  {
   "cell_type": "code",
   "execution_count": 6,
   "id": "2c2fbe7a-1f0a-4282-99d2-a3da92ee9f59",
   "metadata": {},
   "outputs": [],
   "source": [
    "def x_o():\n",
    "    player1='NONE'\n",
    "    x_or_o = ['X','O']\n",
    "    while player1.upper() not in x_or_o:\n",
    "        player1 = input('Please choose whether you want to play as X or O')\n",
    "        if player1.upper() not in x_or_o:\n",
    "            print('Invalid response')\n",
    "        if player1.upper() in x_or_o:\n",
    "            index= x_or_o.index(player1.upper())\n",
    "            player2= x_or_o[index-1]\n",
    "    return player1.upper(),player2.upper()\n",
    "       "
   ]
  },
  {
   "cell_type": "code",
   "execution_count": 7,
   "id": "0689f274-a089-494f-9852-c39dd556b370",
   "metadata": {},
   "outputs": [],
   "source": [
    "def game_on():\n",
    "    choice='NONE'\n",
    "    game=False\n",
    "    while choice.upper() not in ['Y','N']:\n",
    "        choice = input(\"would you like to continue playing enter Y for yes and N for no\")\n",
    "        if choice.upper() not in ['Y','N']:\n",
    "            print(\"Sorry i couldnt understand\")\n",
    "    if choice.upper() in ['Y','N']:\n",
    "        if choice.upper()=='Y':\n",
    "            game = True\n",
    "        elif choice.upper()=='N':\n",
    "            game = False\n",
    "    return game\n",
    "    "
   ]
  },
  {
   "cell_type": "code",
   "execution_count": 8,
   "id": "2452f437-be09-423f-a3fd-d5c85db57b47",
   "metadata": {},
   "outputs": [],
   "source": [
    "def win_check(board,player):\n",
    "     return ((board[7] == player and board[8] == player and board[9] == player) or # across the top\n",
    "    (board[4] == player and board[5] == player and board[6] == player) or # across the middle\n",
    "    (board[1] == player and board[2] == player and board[3] == player) or # across the bottom\n",
    "    (board[7] == player and board[4] == player and board[1] == player) or # down the middle\n",
    "    (board[8] == player and board[5] == player and board[2] == player) or # down the middle\n",
    "    (board[9] == player and board[6] == player and board[3] == player) or # down the right side\n",
    "    (board[7] == player and board[5] == player and board[3] == player) or # diagonal\n",
    "    (board[9] == player and board[5] == player and board[1] == player)) # diagonal\n",
    "    "
   ]
  },
  {
   "cell_type": "code",
   "execution_count": 9,
   "id": "901256c4-3cb5-463e-ac8d-d8a6635dd5d6",
   "metadata": {},
   "outputs": [],
   "source": [
    "def board_check(board):\n",
    "    for i in range(1,10):\n",
    "        if board[i]==\" \":\n",
    "            return False\n",
    "       \n",
    "    return True"
   ]
  },
  {
   "cell_type": "code",
   "execution_count": 10,
   "id": "e138349a-12a3-405a-a6f9-a81422c95823",
   "metadata": {},
   "outputs": [],
   "source": [
    "def update_board(board,player,a):\n",
    "    while (board_check(board) == False or win_check(board,player)==False) and board[a]==' ':\n",
    "        board[a] = player\n",
    "        return board\n",
    "    if board[a] != ' ':\n",
    "        print(\"Sorry this space is occupied choose another space\")\n",
    "        a = user_input()\n",
    "        board[a]=player\n",
    "        return board\n",
    "    "
   ]
  },
  {
   "cell_type": "code",
   "execution_count": 11,
   "id": "3f18a9aa-5cd2-451c-b558-f052b5216184",
   "metadata": {},
   "outputs": [],
   "source": [
    "board=['#',' ',' ',' ',' ',' ',' ',' ',' ',' ']\n",
    "game= True"
   ]
  },
  {
   "cell_type": "code",
   "execution_count": null,
   "id": "2623ffa3-0170-40c9-8b30-8ac8457d29cb",
   "metadata": {},
   "outputs": [],
   "source": []
  },
  {
   "cell_type": "code",
   "execution_count": null,
   "id": "44bccdf7-e336-4d6c-a56f-c71bfb0e8403",
   "metadata": {},
   "outputs": [],
   "source": []
  },
  {
   "cell_type": "code",
   "execution_count": 12,
   "id": "16da9bd8-6821-4e45-bb94-2cb72e39d957",
   "metadata": {},
   "outputs": [
    {
     "name": "stdout",
     "output_type": "stream",
     "text": [
      "THANKYOU FOR PLAYING\n"
     ]
    }
   ],
   "source": [
    "player1,player2=x_o()\n",
    "while game == True:\n",
    "   \n",
    "    display_board(board)\n",
    "    choice = user_input()\n",
    "    board=update_board(board,player1,choice)\n",
    "    display_board(board)\n",
    "    if win_check(board,player1)==True:\n",
    "        print('You Win')\n",
    "        board=['#',' ',' ',' ',' ',' ',' ',' ',' ',' ']\n",
    "        \n",
    "        game = game_on()\n",
    "        from IPython.display import clear_output\n",
    "        clear_output()\n",
    "        continue\n",
    "    elif win_check(board,player1)==False and board_check(board)==True:\n",
    "        print('ITS A TIE')\n",
    "        board=['#',' ',' ',' ',' ',' ',' ',' ',' ',' ']\n",
    "        \n",
    "        game = game_on()\n",
    "        from IPython.display import clear_output\n",
    "        clear_output()\n",
    "        continue\n",
    "    else:\n",
    "        choice = user_input()\n",
    "        board = update_board(board,player2,choice)\n",
    "        \n",
    "        if win_check(board,player2)==True:\n",
    "            print('You Win')\n",
    "            board=['#',' ',' ',' ',' ',' ',' ',' ',' ',' ']\n",
    "            \n",
    "            game = game_on()\n",
    "            from IPython.display import clear_output\n",
    "            clear_output()\n",
    "            continue\n",
    "        elif win_check(board,player2)==False and board_check(board)==True:\n",
    "            print('ITS A TIE')\n",
    "            board = ['#',' ',' ',' ',' ',' ',' ',' ',' ',' ' ]\n",
    "            \n",
    "            game= game_on()\n",
    "            from IPython.display import clear_output\n",
    "            clear_output()\n",
    "            continue\n",
    "        else:\n",
    "            continue\n",
    "if game == False:\n",
    "    from IPython.display import clear_output\n",
    "    clear_output()\n",
    "    print('THANKYOU FOR PLAYING')\n",
    "    game= True\n",
    "\n",
    "    \n",
    "            \n",
    "             \n",
    "           \n",
    "        \n",
    "        \n",
    "    \n",
    "    \n",
    "\n"
   ]
  },
  {
   "cell_type": "code",
   "execution_count": null,
   "id": "ad194268-be58-4f20-9e1c-850d30b85392",
   "metadata": {},
   "outputs": [],
   "source": []
  }
 ],
 "metadata": {
  "kernelspec": {
   "display_name": "Python 3 (ipykernel)",
   "language": "python",
   "name": "python3"
  },
  "language_info": {
   "codemirror_mode": {
    "name": "ipython",
    "version": 3
   },
   "file_extension": ".py",
   "mimetype": "text/x-python",
   "name": "python",
   "nbconvert_exporter": "python",
   "pygments_lexer": "ipython3",
   "version": "3.12.4"
  }
 },
 "nbformat": 4,
 "nbformat_minor": 5
}
